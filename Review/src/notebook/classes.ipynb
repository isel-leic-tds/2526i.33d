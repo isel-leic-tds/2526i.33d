{
 "cells": [
  {
   "metadata": {
    "collapsed": true
   },
   "cell_type": "markdown",
   "source": "# Classes"
  },
  {
   "metadata": {},
   "cell_type": "markdown",
   "source": "## Identidade dos objetos:"
  },
  {
   "metadata": {},
   "cell_type": "code",
   "source": [
    "class Thing\n",
    "\n",
    "val one = Thing()\n",
    "println(one)"
   ],
   "outputs": [],
   "execution_count": null
  },
  {
   "metadata": {},
   "cell_type": "markdown",
   "source": "<img src=\"img\\Thing.png\" />"
  },
  {
   "metadata": {},
   "cell_type": "markdown",
   "source": "## Propriedades imutáveis + construtor primário"
  },
  {
   "metadata": {},
   "cell_type": "code",
   "source": [
    "class Circle() {\n",
    "}\n",
    "\n",
    "val c1 = Circle(5.0)\n",
    "println(\"radius=${c1.radius}, area=${c1.area}\")"
   ],
   "outputs": [],
   "execution_count": null
  },
  {
   "metadata": {},
   "cell_type": "markdown",
   "source": "<img src=\"img\\Circle.png\" />"
  },
  {
   "metadata": {},
   "cell_type": "markdown",
   "source": "## Propriedades mutáveis + bloco `init`"
  },
  {
   "metadata": {},
   "cell_type": "code",
   "source": [
    "val PI = 3.14159\n",
    "val origin = Point(0.0, 0.0)\n",
    "\n",
    "class MovingCircle(){\n",
    "}\n",
    "\n",
    "val c2 = MovingCircle(5.0)\n",
    "println(\"radius=${c2.radius}, area=${c2.area}\")\n",
    "println(\"center=(${c2.center.x},${c2.center.y})\")\n",
    "c2.center = Point(10.5, 20.0)\n",
    "println(\"center=(${c2.center.x},${c2.center.y})\")"
   ],
   "outputs": [],
   "execution_count": null
  },
  {
   "metadata": {},
   "cell_type": "markdown",
   "source": "<img src=\"img\\MovingCircle.png\" />"
  },
  {
   "metadata": {},
   "cell_type": "markdown",
   "source": "## Métodos"
  },
  {
   "metadata": {},
   "cell_type": "code",
   "source": [
    "class Person() {\n",
    "}\n",
    "\n",
    "val p1 = Person(\"Ana\", 46)\n",
    "p1.talk()\n",
    "p1.passYears(5)\n",
    "p1.talk()"
   ],
   "outputs": [],
   "execution_count": null
  },
  {
   "metadata": {},
   "cell_type": "markdown",
   "source": "<img src=\"img\\Person.png\" />"
  },
  {
   "metadata": {},
   "cell_type": "markdown",
   "source": "## Visibilidade e encapsulamento: `public`, `private`"
  },
  {
   "metadata": {},
   "cell_type": "code",
   "source": [
    "p1.age -= 100\n",
    "p1.talk()"
   ],
   "outputs": [],
   "execution_count": null
  },
  {
   "metadata": {},
   "cell_type": "code",
   "source": [
    "class Person2(val name: String, initialAge: Int = 0) {\n",
    "    private var age: Int = if (initialAge<0) 0 else initialAge\n",
    "    fun talk() { println(\"O meu nome é $name e tenho $age anos.\") }\n",
    "    fun passYears(years: Int) { if (years>0) age += years }\n",
    "}\n",
    "\n",
    "val p2 = Person2(\"Ana\", 46)\n",
    "p2.talk()\n",
    "p2.passYears(-100)\n",
    "p2.talk()"
   ],
   "outputs": [],
   "execution_count": null
  },
  {
   "metadata": {},
   "cell_type": "markdown",
   "source": "## Escrita protegida: `private set`"
  },
  {
   "metadata": {},
   "cell_type": "code",
   "source": [
    "class Person3(val name: String, initialAge: Int = 0) {\n",
    "    var age: Int = if (initialAge<0) 0 else initialAge\n",
    "        private set\n",
    "    fun passYears(years: Int) { if (years>0) age += years }\n",
    "}\n",
    "fun Person3.talk() { println(\"O meu nome é $name e tenho $age anos.\") }\n",
    "\n",
    "val p3 = Person3(\"Ana\", 46)\n",
    "p3.passYears(3)\n",
    "p3.talk()"
   ],
   "outputs": [],
   "execution_count": null
  }
 ],
 "metadata": {
  "kernelspec": {
   "display_name": "Kotlin",
   "language": "kotlin",
   "name": "kotlin"
  },
  "language_info": {
   "name": "kotlin",
   "version": "2.2.20-Beta2",
   "mimetype": "text/x-kotlin",
   "file_extension": ".kt",
   "pygments_lexer": "kotlin",
   "codemirror_mode": "text/x-kotlin",
   "nbconvert_exporter": ""
  },
  "ktnbPluginMetadata": {
   "projectLibraries": true
  }
 },
 "nbformat": 4,
 "nbformat_minor": 0
}
