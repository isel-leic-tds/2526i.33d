{
 "cells": [
  {
   "metadata": {
    "collapsed": true
   },
   "cell_type": "markdown",
   "source": "# Utilização segura do valor null"
  },
  {
   "metadata": {},
   "cell_type": "markdown",
   "source": "## Tipos anuláveis: T?"
  },
  {
   "metadata": {},
   "cell_type": "code",
   "source": [
    "val maybeText: String? = listOf(null,\"TDS\").random()\n",
    "maybeText"
   ],
   "outputs": [],
   "execution_count": null
  },
  {
   "metadata": {},
   "cell_type": "code",
   "source": [
    "val len: Int = maybeText.length\n",
    "println(len)"
   ],
   "outputs": [],
   "execution_count": null
  },
  {
   "metadata": {},
   "cell_type": "markdown",
   "source": [
    "## Elvis operator: &nbsp;&nbsp;&nbsp;&nbsp; **`?:`**\n",
    "#### **`A ?: V`** &nbsp;&nbsp;&nbsp;&nbsp; ==> &nbsp;&nbsp;&nbsp;&nbsp; **`if (A != null) A else V`**"
   ]
  },
  {
   "metadata": {},
   "cell_type": "code",
   "source": [
    "val text = maybeText ?: \"\"\n",
    "println(text.length)"
   ],
   "outputs": [],
   "execution_count": null
  },
  {
   "metadata": {},
   "cell_type": "markdown",
   "source": [
    "## Operador de acesso seguro: &nbsp;&nbsp;&nbsp;&nbsp; **`?.`**\n",
    "#### **`A ?. P`** &nbsp;&nbsp;&nbsp;&nbsp; ==> &nbsp;&nbsp;&nbsp;&nbsp; **`if (A != null) A.P else null`**"
   ]
  },
  {
   "metadata": {},
   "cell_type": "code",
   "source": "println(maybeText?.length ?: 0)",
   "outputs": [],
   "execution_count": null
  },
  {
   "metadata": {},
   "cell_type": "markdown",
   "source": [
    "## Operador _bang bang_: &nbsp;&nbsp;&nbsp;&nbsp; **`!!`**\n",
    "#### **`A!!`** &nbsp;&nbsp;&nbsp;&nbsp; ==> &nbsp;&nbsp;&nbsp;&nbsp; **`if (A != null) A else `** <img src=\"img/bang.png\" title=\"Bang\" width=\"32\"/>"
   ]
  },
  {
   "metadata": {},
   "cell_type": "code",
   "source": [
    "val len: Int = (maybeText!!).length    // Throw NPE if is null\n",
    "println(len)"
   ],
   "outputs": [],
   "execution_count": null
  },
  {
   "metadata": {},
   "cell_type": "markdown",
   "source": "## Conversões com verificação:   `...OrNull()`"
  },
  {
   "metadata": {},
   "cell_type": "code",
   "source": [
    "val maybeValue: Int? = readln().trim().toIntOrNull() // Try to convert to Int\n",
    "if (maybeValue == null)       // Conversion failed?\n",
    "    println(\"Não é um valor inteiro\")\n",
    "else {\n",
    "    val value: Int = maybeValue  // maybeValue is now an Int\n",
    "    val parity = if (value % 2 == 0) \"par\" else \"ímpar\"\n",
    "    println(\"$value é $parity\")\n",
    "}"
   ],
   "outputs": [],
   "execution_count": null
  }
 ],
 "metadata": {
  "kernelspec": {
   "display_name": "Kotlin",
   "language": "kotlin",
   "name": "kotlin"
  },
  "language_info": {
   "name": "kotlin",
   "version": "2.2.20-Beta2",
   "mimetype": "text/x-kotlin",
   "file_extension": ".kt",
   "pygments_lexer": "kotlin",
   "codemirror_mode": "text/x-kotlin",
   "nbconvert_exporter": ""
  },
  "ktnbPluginMetadata": {
   "projectLibraries": true
  }
 },
 "nbformat": 4,
 "nbformat_minor": 0
}
