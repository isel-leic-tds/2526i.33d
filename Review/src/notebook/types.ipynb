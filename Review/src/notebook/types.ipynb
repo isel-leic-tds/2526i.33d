{
 "cells": [
  {
   "metadata": {},
   "cell_type": "markdown",
   "source": "# Kotlin - Linguagem fortemente tipificada"
  },
  {
   "metadata": {},
   "cell_type": "code",
   "source": "a + 3  // O que faz o operador `+`?",
   "outputs": [],
   "execution_count": null
  },
  {
   "metadata": {},
   "cell_type": "markdown",
   "source": "## Tipos inteiros: `Byte`, `Short`, `Int`, `Long`"
  },
  {
   "metadata": {},
   "cell_type": "code",
   "source": "val year = 2025u // Qual o tipo de `year`?",
   "outputs": [],
   "execution_count": null
  },
  {
   "metadata": {
    "tags": []
   },
   "cell_type": "markdown",
   "source": "## Tipos reais: `Float`, `Double`"
  },
  {
   "metadata": {},
   "cell_type": "code",
   "source": [
    "var price = 19.9 // Qual o tipo de `price`?\n",
    "price += 0.1f    // Qual é o valor final ?"
   ],
   "outputs": [],
   "execution_count": null
  },
  {
   "metadata": {},
   "cell_type": "markdown",
   "source": "## Tipos para texto: `Char`, `String`"
  },
  {
   "metadata": {},
   "cell_type": "code",
   "source": [
    "'A' + 2 // Qual é o tipo do resultado?\n",
    "\"A\" + 2 // E aqui?"
   ],
   "outputs": [],
   "execution_count": null
  },
  {
   "metadata": {},
   "cell_type": "markdown",
   "source": "## Tipo para valores lógicos: `Boolean`"
  },
  {
   "metadata": {},
   "cell_type": "code",
   "source": "false && readln().toBoolean() // O que acontece aqui?",
   "outputs": [],
   "execution_count": null
  },
  {
   "metadata": {},
   "cell_type": "code",
   "source": "false and readln().toBoolean() // E aqui?",
   "outputs": [],
   "execution_count": null
  },
  {
   "metadata": {},
   "cell_type": "markdown",
   "source": "## Tipos de intervalos: `IntRange`, `LongRange`, `CharRange`"
  },
  {
   "metadata": {},
   "cell_type": "code",
   "source": [
    "val grades = 0..20\n",
    "val range = 100 downTo 0 step 10 // Qual é o tipo deste intervalo?\n",
    "range.joinToString()"
   ],
   "outputs": [],
   "execution_count": null
  },
  {
   "metadata": {},
   "cell_type": "markdown",
   "source": "## Outros tipos da linguagem: `Unit`, `Any`, `Nothing`"
  },
  {
   "metadata": {},
   "cell_type": "code",
   "source": [
    "println(Unit)  // Unit é um tipo ou é um valor?\n",
    "println(Any()) // O que é Any?\n",
    "val ops: Nothing = TODO() // O que é Nothing?"
   ],
   "outputs": [],
   "execution_count": null
  }
 ],
 "metadata": {
  "kernelspec": {
   "display_name": "Kotlin",
   "language": "kotlin",
   "name": "kotlin"
  },
  "language_info": {
   "name": "kotlin",
   "version": "2.2.20-Beta2",
   "mimetype": "text/x-kotlin",
   "file_extension": ".kt",
   "pygments_lexer": "kotlin",
   "codemirror_mode": "text/x-kotlin",
   "nbconvert_exporter": ""
  }
 },
 "nbformat": 4,
 "nbformat_minor": 0
}
