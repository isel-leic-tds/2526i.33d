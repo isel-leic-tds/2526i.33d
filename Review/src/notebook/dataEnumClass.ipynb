{
 "cells": [
  {
   "metadata": {
    "collapsed": true
   },
   "cell_type": "markdown",
   "source": "# Data class"
  },
  {
   "metadata": {},
   "cell_type": "markdown",
   "source": "## Classes normais vs data classes"
  },
  {
   "metadata": {},
   "cell_type": "markdown",
   "source": [
    "<table>\n",
    "<tr>\n",
    "  <td><img src=\"img\\UserNormal.png\" /></td>\n",
    "  <td><img src=\"img\\UserData.png\" /></td>\n",
    "</tr>\n",
    "</table>"
   ]
  },
  {
   "metadata": {},
   "cell_type": "code",
   "source": [
    "class User(val name: String, val online: Boolean)\n",
    "\n",
    "val u1 = User(\"Pedro\",true)\n",
    "println(u1)\n",
    "println(u1 == User(\"Pedro\",true))\n",
    "\n",
    "val u2 = User(u1.name, online = false)\n",
    "// val u2 = u1.copy(online = false)\n",
    "println(u2)\n",
    "\n",
    "val name = u1.name\n",
    "val status = u1.online\n",
    "// val (name, status) = u1\n",
    "println(\"$name is ${if (status) \"online\" else \"offline\"}\")"
   ],
   "outputs": [],
   "execution_count": null
  },
  {
   "metadata": {},
   "cell_type": "markdown",
   "source": [
    "## Membros adicionais em data classes\n",
    "<img src=\"img\\UserData2.png\" />"
   ]
  },
  {
   "metadata": {},
   "cell_type": "code",
   "source": [
    "data class User(val name: String, val online: Boolean) {\n",
    "    ... System.currentTimeMillis()\n",
    "}\n",
    "\n",
    "val u1 = User(\"Pedro\",true)\n",
    "u1.show()  // --> User(name=Pedro, online=true) [1757588195046]\n",
    "val u2 = u1.copy()\n",
    "u2.show()  // --> User(name=Pedro, online=true) [1757588195048]\n",
    "println(u1 == u2)  // --> true\n",
    "val u3 = u1.copy(online = false)\n",
    "u3.show()  // --> User(name=Pedro, online=false) [null]"
   ],
   "outputs": [],
   "execution_count": null
  },
  {
   "metadata": {},
   "cell_type": "markdown",
   "source": [
    "# Enum class\n",
    "<img src=\"img\\StatusEnum.png\" />"
   ]
  },
  {
   "metadata": {},
   "cell_type": "code",
   "outputs": [],
   "execution_count": null,
   "source": [
    "enum class Status ...\n",
    "\n",
    "val status = Status.OFFLINE\n",
    "println(status)\n",
    "for (s in Status.entries)\n",
    "    println(\"${s.name}: ${s.ordinal}\")"
   ]
  },
  {
   "metadata": {},
   "cell_type": "markdown",
   "source": "## Enum & **`when`** _exaustivo_"
  },
  {
   "metadata": {},
   "cell_type": "code",
   "outputs": [],
   "execution_count": null,
   "source": [
    "fun printStatus(s: Status) {\n",
    "    println(\"Estado = \" + when (s) {\n",
    "        Status.ONLINE -> \"Ligado\"\n",
    "        Status.OFFLINE -> \"Desligado\"\n",
    "        Status.BUSY -> \"Ocupado\"\n",
    "    } )\n",
    "}\n",
    "printStatus(Status.OFFLINE)"
   ]
  },
  {
   "metadata": {},
   "cell_type": "markdown",
   "source": [
    "## Membros adicionais em enum classes\n",
    "<img src=\"img\\StatusEnum2.png\" />"
   ]
  },
  {
   "metadata": {},
   "cell_type": "code",
   "outputs": [],
   "execution_count": null,
   "source": [
    "enum class Status(...) {\n",
    "    ONLINE(\"Ligado\"), OFFLINE(\"Desligado\"), BUSY(\"Ocupado\");\n",
    "    fun print() ...\n",
    "}\n",
    "\n",
    "Status.OFFLINE.print()"
   ]
  }
 ],
 "metadata": {
  "kernelspec": {
   "display_name": "Kotlin",
   "language": "kotlin",
   "name": "kotlin"
  },
  "language_info": {
   "name": "kotlin",
   "version": "2.2.20-Beta2",
   "mimetype": "text/x-kotlin",
   "file_extension": ".kt",
   "pygments_lexer": "kotlin",
   "codemirror_mode": "text/x-kotlin",
   "nbconvert_exporter": ""
  },
  "ktnbPluginMetadata": {
   "projectLibraries": true
  }
 },
 "nbformat": 4,
 "nbformat_minor": 0
}
