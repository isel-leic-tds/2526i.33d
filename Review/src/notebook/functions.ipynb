{
 "cells": [
  {
   "metadata": {
    "collapsed": true
   },
   "cell_type": "markdown",
   "source": "# Funções"
  },
  {
   "metadata": {},
   "cell_type": "markdown",
   "source": "## Definição e invocação de funções"
  },
  {
   "metadata": {
    "ExecuteTime": {
     "end_time": "2025-09-12T15:38:28.374688100Z",
     "start_time": "2025-09-12T15:38:27.959414200Z"
    }
   },
   "cell_type": "code",
   "source": [
    "fun hello(name: String) {  // O que significa `: Unit`?\n",
    "    println(\"Olá, $name!\")\n",
    "    println(\"Adeus.\")\n",
    "}\n",
    "hello(\"Maria\")\n",
    "hello(\"Pedro\")"
   ],
   "outputs": [
    {
     "name": "stdout",
     "output_type": "stream",
     "text": [
      "Olá, Maria!\r\n",
      "Adeus.\r\n",
      "Olá, Pedro!\r\n",
      "Adeus.\r\n"
     ]
    }
   ],
   "execution_count": 1
  },
  {
   "metadata": {},
   "cell_type": "markdown",
   "source": "## O retorno das funções"
  },
  {
   "metadata": {
    "ExecuteTime": {
     "end_time": "2025-09-12T15:43:03.230371Z",
     "start_time": "2025-09-12T15:42:58.777388900Z"
    }
   },
   "cell_type": "code",
   "source": [
    "fun readAge(name: String, default: Int): Int {\n",
    "    print(\"Qual é a sua idade, $name? \")\n",
    "    val input = readln().trim()\n",
    "    return input.toIntOrNull() ?: default\n",
    "}\n",
    "val age = readAge(\"Ana\", 19)\n",
    "println(\"Idade: $age\")"
   ],
   "outputs": [
    {
     "name": "stdout",
     "output_type": "stream",
     "text": [
      "Qual é a sua idade, Ana? Idade: 19\r\n"
     ]
    }
   ],
   "execution_count": 3
  },
  {
   "metadata": {},
   "cell_type": "markdown",
   "source": "## Argumentos nomeados"
  },
  {
   "metadata": {},
   "cell_type": "code",
   "source": [
    "println( readAge(\"Pedro\", default = 18))\n",
    "println( readAge(default = 21, name = \"Carla\"))"
   ],
   "outputs": [],
   "execution_count": null
  },
  {
   "metadata": {},
   "cell_type": "markdown",
   "source": "## Parâmetros com valor por omissão"
  },
  {
   "metadata": {},
   "cell_type": "code",
   "source": [
    "fun readAge(name: String = \"Anónimo\", default: Int = 18): Int {\n",
    "    print(\"Qual é a sua idade, $name? \")\n",
    "    return readln().trim().toIntOrNull() ?: default\n",
    "}\n",
    "println(readAge(\"Ana\"))\n",
    "println(readAge(default = 21))\n",
    "println(readAge())"
   ],
   "outputs": [],
   "execution_count": null
  },
  {
   "metadata": {},
   "cell_type": "markdown",
   "source": "## Retorno de Unit"
  },
  {
   "metadata": {
    "ExecuteTime": {
     "end_time": "2025-09-12T15:51:06.655269700Z",
     "start_time": "2025-09-12T15:51:06.565681200Z"
    }
   },
   "cell_type": "code",
   "source": [
    "fun hello(name: String = \"\") {\n",
    "    if (name == \"\") {\n",
    "        println(\"Hello, World!\")\n",
    "        return  // return explicito. Retorna um valor?\n",
    "    }\n",
    "    println(\"Hello, $name!\")\n",
    "    // return implicito.\n",
    "}\n",
    "hello(\"\")"
   ],
   "outputs": [
    {
     "name": "stdout",
     "output_type": "stream",
     "text": [
      "Hello, World!\r\n"
     ]
    }
   ],
   "execution_count": 7
  },
  {
   "metadata": {
    "ExecuteTime": {
     "end_time": "2025-09-12T15:53:50.184414600Z",
     "start_time": "2025-09-12T15:53:50.122136900Z"
    }
   },
   "cell_type": "code",
   "source": [
    "fun hello(name: String = \"\") {\n",
    "    val txt = if (name==\"\") \"World\" else name\n",
    "    println(\"Hello, $txt!\")\n",
    "}\n",
    "hello(\"ABC\")"
   ],
   "outputs": [
    {
     "name": "stdout",
     "output_type": "stream",
     "text": [
      "Hello, ABC!\r\n"
     ]
    }
   ],
   "execution_count": 9
  },
  {
   "metadata": {},
   "cell_type": "markdown",
   "source": "### Será equivalente a esta?"
  },
  {
   "metadata": {
    "ExecuteTime": {
     "end_time": "2025-09-12T15:51:02.792755500Z",
     "start_time": "2025-09-12T15:51:02.725329900Z"
    }
   },
   "cell_type": "code",
   "source": [
    "fun hello(name: String =\"World\") {\n",
    "    println(\"Hello, $name!\")\n",
    "}\n",
    "hello(\"\")"
   ],
   "outputs": [
    {
     "name": "stdout",
     "output_type": "stream",
     "text": [
      "Hello, !\r\n"
     ]
    }
   ],
   "execution_count": 6
  },
  {
   "metadata": {},
   "cell_type": "markdown",
   "source": "## Funções expressão"
  },
  {
   "metadata": {},
   "cell_type": "code",
   "source": [
    "fun max(a: Int, b: Int) = if (a >= b) a else b\n",
    "max(4,7)"
   ],
   "outputs": [],
   "execution_count": null
  },
  {
   "metadata": {},
   "cell_type": "markdown",
   "source": "## Funções extensão"
  },
  {
   "metadata": {
    "ExecuteTime": {
     "end_time": "2025-09-12T15:58:07.160389500Z",
     "start_time": "2025-09-12T15:58:06.942333400Z"
    }
   },
   "cell_type": "code",
   "source": [
    "fun Int.isPrime(): Boolean {\n",
    "    if (this < 2) return false\n",
    "    for (i in 2..(this/2))\n",
    "        if (this % i == 0) return false\n",
    "    return true\n",
    "}\n",
    "\n",
    "for(n in 1..100)\n",
    "    if (n.isPrime())\n",
    "        print(\"$n,\")\n",
    "println()\n",
    "// Sem virgula no fim?"
   ],
   "outputs": [
    {
     "name": "stdout",
     "output_type": "stream",
     "text": [
      "2,3,5,7,11,13,17,19,23,29,31,37,41,43,47,53,59,61,67,71,73,79,83,89,97,\r\n"
     ]
    }
   ],
   "execution_count": 10
  },
  {
   "metadata": {},
   "cell_type": "markdown",
   "source": "## Sobrecarga de operadores"
  },
  {
   "metadata": {
    "ExecuteTime": {
     "end_time": "2025-09-12T16:02:58.785513400Z",
     "start_time": "2025-09-12T16:02:58.665728Z"
    }
   },
   "cell_type": "code",
   "source": [
    "operator fun Char.times(n: Int): String {\n",
    "    var res = \"\"\n",
    "    for(i in 1..n) { res += this }\n",
    "    return res\n",
    "}\n",
    "\"Ok\" + 'a' * 5\n",
    "//\"Ok\" + 'a'.times(5)\n",
    "\"abc\".repeat(3)"
   ],
   "outputs": [
    {
     "data": {
      "text/plain": [
       "abcabcabc"
      ]
     },
     "execution_count": 12,
     "metadata": {},
     "output_type": "execute_result"
    }
   ],
   "execution_count": 12
  },
  {
   "metadata": {},
   "cell_type": "markdown",
   "source": "### Tabela de sobrecarga de alguns operadores"
  },
  {
   "metadata": {},
   "cell_type": "markdown",
   "source": [
    "| Expressão | substituida por |\n",
    "|:---------:|:---------------:|\n",
    "|   a + b   |    a.plus(b)    |\n",
    "|   a - b   |   a.minus(b)    |\n",
    "|   a * b   |   a.times(b)    |\n",
    "|   a / b   |    a.div(b)     |\n",
    "|   a % b   |    a.rem(b)     |\n",
    "|  a == b   |   a.equals(b)   |\n",
    "|  a != b   |  !a.equals(b)   |\n",
    "|  a in b   |  b.contains(a)  |\n",
    "|  a .. b   |  a.rangeTo(b)   |\n",
    "|   a[b]    |    a.get(b)     |\n",
    "| a[b] = c  |   a.set(b,c)    |\n",
    "|   a > b   |   a.compareTo(b) > 0 |\n",
    "|   a < b   |   a.compareTo(b) < 0 |\n",
    "|  a <= b   |   a.compareTo(b) <= 0 |\n",
    "|  a >= b   |   a.compareTo(b) >= 0 |\n",
    "|   a(b)    |   a.invoke(b)    |"
   ]
  },
  {
   "metadata": {},
   "cell_type": "markdown",
   "source": "## Funções locais\n"
  },
  {
   "metadata": {
    "ExecuteTime": {
     "end_time": "2025-09-12T16:06:01.136988600Z",
     "start_time": "2025-09-12T16:06:01.051326400Z"
    }
   },
   "cell_type": "code",
   "source": [
    "fun fact(n: Int): Int {\n",
    "    fun f(n: Int, acc: Int): Int =\n",
    "        if (n <= 1) acc // 0! = 1 e 1! = 1\n",
    "        else f(n - 1, n * acc)   // n! = n * (n-1)!\n",
    "    require(n>=0)\n",
    "    return f(n, 1)\n",
    "}\n",
    "fact(4)"
   ],
   "outputs": [
    {
     "data": {
      "text/plain": [
       "24"
      ]
     },
     "execution_count": 14,
     "metadata": {},
     "output_type": "execute_result"
    }
   ],
   "execution_count": 14
  },
  {
   "metadata": {},
   "cell_type": "markdown",
   "source": "## Funções como valores"
  },
  {
   "metadata": {},
   "cell_type": "markdown",
   "source": "### O tipo das funções: `( parâmetros ) -> tipo_de_retorno`"
  },
  {
   "metadata": {},
   "cell_type": "markdown",
   "source": "### Operador `::` - Referência para função"
  },
  {
   "metadata": {
    "ExecuteTime": {
     "end_time": "2025-09-17T16:15:25.686973700Z",
     "start_time": "2025-09-17T16:15:21.270635300Z"
    }
   },
   "cell_type": "code",
   "source": [
    "fun out(s: String) = println(\"Text = $s\")\n",
    "\n",
    "val input: ()->String  = ::readln\n",
    "val output: (String)->Unit = ::println\n",
    "\n",
    "output(\"Digite algo: \")\n",
    "val text = input()\n",
    "output(\"Você digitou: $text\")"
   ],
   "outputs": [
    {
     "name": "stdout",
     "output_type": "stream",
     "text": [
      "Digite algo: \r\n",
      "Você digitou: abc\r\n"
     ]
    }
   ],
   "execution_count": 2
  },
  {
   "metadata": {},
   "cell_type": "markdown",
   "source": "### Expressões lambda - Funções definidas numa expressão"
  },
  {
   "metadata": {
    "ExecuteTime": {
     "end_time": "2025-09-17T16:19:12.759775200Z",
     "start_time": "2025-09-17T16:19:12.585572800Z"
    }
   },
   "cell_type": "code",
   "source": [
    "val isUpper: (Char)->Boolean = { it in 'A'..'Z' }\n",
    "\n",
    "isUpper('A')"
   ],
   "outputs": [
    {
     "data": {
      "text/plain": [
       "true"
      ]
     },
     "execution_count": 3,
     "metadata": {},
     "output_type": "execute_result"
    }
   ],
   "execution_count": 3
  },
  {
   "metadata": {},
   "cell_type": "markdown",
   "source": "#### Parametro implícito `it`"
  },
  {
   "metadata": {
    "ExecuteTime": {
     "end_time": "2025-09-17T16:24:08.944534200Z",
     "start_time": "2025-09-17T16:24:08.778060700Z"
    }
   },
   "cell_type": "code",
   "source": [
    "var oper: (Int) -> Int = { it * 2 }\n",
    "println(oper(3)) // --> 6\n",
    "\n",
    "oper = { it * it }\n",
    "println(oper(3)) // --> 9"
   ],
   "outputs": [
    {
     "name": "stdout",
     "output_type": "stream",
     "text": [
      "6\r\n",
      "9\r\n"
     ]
    }
   ],
   "execution_count": 4
  },
  {
   "metadata": {},
   "cell_type": "markdown",
   "source": "### Funções como parâmetro"
  },
  {
   "metadata": {
    "ExecuteTime": {
     "end_time": "2025-09-17T16:31:48.748795800Z",
     "start_time": "2025-09-17T16:31:48.652610Z"
    }
   },
   "cell_type": "code",
   "source": [
    "inline fun repeat(times: Int, action: (Int) -> Unit) {\n",
    "    for (i in 0..<times) {\n",
    "        //print(\"$i: \")\n",
    "        action(i)\n",
    "    }\n",
    "}\n",
    "repeat(10) {\n",
    "    if (it % 2 == 0) print(\"$it \")\n",
    "}"
   ],
   "outputs": [
    {
     "name": "stdout",
     "output_type": "stream",
     "text": [
      "0 2 4 6 8 "
     ]
    }
   ],
   "execution_count": 7
  },
  {
   "metadata": {},
   "cell_type": "markdown",
   "source": "### Funções retornadas por outras funções"
  },
  {
   "metadata": {
    "ExecuteTime": {
     "end_time": "2025-09-09T20:04:54.372914500Z",
     "start_time": "2025-09-09T20:04:54.278853300Z"
    }
   },
   "cell_type": "code",
   "source": [
    "fun add(x: Int): (Int) -> Int = { y -> x + y }\n",
    "\n",
    "val f: (Int)->Int = add(3)\n",
    "val res = f(5)\n",
    "println(res)         // --> 8\n",
    "\n",
    "println( add(3)(5) ) // --> 8\n"
   ],
   "outputs": [
    {
     "name": "stdout",
     "output_type": "stream",
     "text": [
      "8\r\n",
      "8\r\n"
     ]
    }
   ],
   "execution_count": 30
  }
 ],
 "metadata": {
  "kernelspec": {
   "display_name": "Kotlin",
   "language": "kotlin",
   "name": "kotlin"
  },
  "language_info": {
   "name": "kotlin",
   "version": "2.2.20-Beta2",
   "mimetype": "text/x-kotlin",
   "file_extension": ".kt",
   "pygments_lexer": "kotlin",
   "codemirror_mode": "text/x-kotlin",
   "nbconvert_exporter": ""
  },
  "ktnbPluginMetadata": {
   "projectLibraries": true
  }
 },
 "nbformat": 4,
 "nbformat_minor": 0
}
