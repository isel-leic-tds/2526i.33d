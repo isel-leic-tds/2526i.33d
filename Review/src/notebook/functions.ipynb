{
 "cells": [
  {
   "metadata": {
    "collapsed": true
   },
   "cell_type": "markdown",
   "source": "# Funções"
  },
  {
   "metadata": {},
   "cell_type": "markdown",
   "source": "## Definição e invocação de funções"
  },
  {
   "metadata": {},
   "cell_type": "code",
   "source": [
    "fun hello(name: String): Unit {  // O que significa `: Unit`?\n",
    "    println(\"Olá, $name!\")\n",
    "    println(\"Adeus.\")\n",
    "}\n",
    "hello(\"Maria\")\n",
    "hello(\"Pedro\")"
   ],
   "outputs": [],
   "execution_count": null
  },
  {
   "metadata": {},
   "cell_type": "markdown",
   "source": "## O retorno das funções"
  },
  {
   "metadata": {},
   "cell_type": "code",
   "source": [
    "fun readAge(name: String, default: Int): Int {\n",
    "    print(\"Qual é a sua idade, $name? \")\n",
    "    val input = readln().trim()\n",
    "    return input.toIntOrNull() ?: default\n",
    "}\n",
    "val age = readAge(\"Ana\", 19)\n",
    "println(\"Idade: $age\")"
   ],
   "outputs": [],
   "execution_count": null
  },
  {
   "metadata": {},
   "cell_type": "markdown",
   "source": "## Argumentos nomeados"
  },
  {
   "metadata": {},
   "cell_type": "code",
   "source": [
    "println( readAge(\"Pedro\", default = 18))\n",
    "println( readAge(default = 21, name = \"Carla\"))"
   ],
   "outputs": [],
   "execution_count": null
  },
  {
   "metadata": {},
   "cell_type": "markdown",
   "source": "## Parâmetros com valor por omissão"
  },
  {
   "metadata": {},
   "cell_type": "code",
   "source": [
    "fun readAge(name: String = \"Anónimo\", default: Int = 18): Int {\n",
    "    print(\"Qual é a sua idade, $name? \")\n",
    "    return readln().trim().toIntOrNull() ?: default\n",
    "}\n",
    "println(readAge(\"Ana\"))\n",
    "println(readAge(default = 21))\n",
    "println(readAge())"
   ],
   "outputs": [],
   "execution_count": null
  },
  {
   "metadata": {},
   "cell_type": "markdown",
   "source": "## Retorno de Unit"
  },
  {
   "metadata": {},
   "cell_type": "code",
   "source": [
    "fun hello(name: String = \"\") {\n",
    "    if (name == \"\") {\n",
    "        println(\"Hello, World!\")\n",
    "        return  // return explicito. Retorna um valor?\n",
    "    }\n",
    "    println(\"Hello, $name!\")\n",
    "    // return implicito.\n",
    "}\n",
    "hello(\"TDS\")"
   ],
   "outputs": [],
   "execution_count": null
  },
  {
   "metadata": {},
   "cell_type": "markdown",
   "source": "### Será equivalente a esta?"
  },
  {
   "metadata": {},
   "cell_type": "code",
   "source": [
    "fun hello(name: String =\"World\") {\n",
    "    println(\"Hello, $name!\")\n",
    "}"
   ],
   "outputs": [],
   "execution_count": null
  },
  {
   "metadata": {},
   "cell_type": "markdown",
   "source": "## Funções expressão"
  },
  {
   "metadata": {},
   "cell_type": "code",
   "source": [
    "fun max(a: Int, b: Int) = if (a >= b) a else b\n",
    "max(4,7)"
   ],
   "outputs": [],
   "execution_count": null
  },
  {
   "metadata": {},
   "cell_type": "markdown",
   "source": "## Funções extensão"
  },
  {
   "metadata": {},
   "cell_type": "code",
   "source": [
    "fun Int.isPrime(): Boolean {\n",
    "    if (this < 2) return false\n",
    "    for (i in 2..(this/2))\n",
    "        if (this % i == 0) return false\n",
    "    return true\n",
    "}\n",
    "\n",
    "for(n in 1..100)\n",
    "    if (n.isPrime())\n",
    "        print(\"$n,\")\n",
    "println()\n",
    "// Sem virgula no fim?"
   ],
   "outputs": [],
   "execution_count": null
  },
  {
   "metadata": {},
   "cell_type": "markdown",
   "source": "## Sobrecarga de operadores"
  },
  {
   "metadata": {},
   "cell_type": "code",
   "source": [
    "operator fun Char.times(n: Int): String {\n",
    "    var res = \"\"\n",
    "    for(i in 1..n) { res += this }\n",
    "    return res\n",
    "}\n",
    "\"Ok\" + 'a' * 5"
   ],
   "outputs": [],
   "execution_count": null
  },
  {
   "metadata": {},
   "cell_type": "markdown",
   "source": "### Tabela de sobrecarga de alguns operadores"
  },
  {
   "metadata": {},
   "cell_type": "markdown",
   "source": [
    "| Expressão | substituida por |\n",
    "|:---------:|:---------------:|\n",
    "|   a + b   |    a.plus(b)    |\n",
    "|   a - b   |   a.minus(b)    |\n",
    "|   a * b   |   a.times(b)    |\n",
    "|   a / b   |    a.div(b)     |\n",
    "|   a % b   |    a.rem(b)     |\n",
    "|  a == b   |   a.equals(b)   |\n",
    "|  a != b   |  !a.equals(b)   |\n",
    "|  a in b   |  b.contains(a)  |\n",
    "|  a .. b   |  a.rangeTo(b)   |\n",
    "|   a[b]    |    a.get(b)     |\n",
    "| a[b] = c  |   a.set(b,c)    |\n",
    "|   a > b   |   a.compareTo(b) > 0 |\n",
    "|   a < b   |   a.compareTo(b) < 0 |\n",
    "|  a <= b   |   a.compareTo(b) <= 0 |\n",
    "|  a >= b   |   a.compareTo(b) >= 0 |\n",
    "|   a(b)    |   a.invoke(b)    |"
   ]
  },
  {
   "metadata": {},
   "cell_type": "markdown",
   "source": "## Funções locais\n"
  },
  {
   "metadata": {
    "ExecuteTime": {
     "end_time": "2025-09-09T21:47:36.073458500Z",
     "start_time": "2025-09-09T21:47:35.996966200Z"
    }
   },
   "cell_type": "code",
   "source": [
    "fun fact(n: Int): Int {\n",
    "    fun f(n: Int, acc: Int): Int =\n",
    "        if (n <= 1) acc // 0! = 1 e 1! = 1\n",
    "        else f(n - 1, n * acc)   // n! = n * (n-1)!\n",
    "    require(n>=0)\n",
    "    return f(n, 1)\n",
    "}\n",
    "fact(4)"
   ],
   "outputs": [
    {
     "data": {
      "text/plain": [
       "24"
      ]
     },
     "execution_count": 42,
     "metadata": {},
     "output_type": "execute_result"
    }
   ],
   "execution_count": 42
  },
  {
   "metadata": {},
   "cell_type": "markdown",
   "source": "## Funções como valores"
  },
  {
   "metadata": {},
   "cell_type": "markdown",
   "source": "### O tipo das funções: `( parâmetros ) -> tipo_de_retorno`"
  },
  {
   "metadata": {},
   "cell_type": "markdown",
   "source": "### Operador `::` - Referência para função"
  },
  {
   "metadata": {
    "ExecuteTime": {
     "end_time": "2025-09-09T12:07:40.980950100Z",
     "start_time": "2025-09-09T12:07:33.734487300Z"
    }
   },
   "cell_type": "code",
   "source": [
    "val input: ()->String  = ::readln\n",
    "val output: (String)->Unit = ::println\n",
    "\n",
    "output(\"Digite algo: \")\n",
    "val text = input()\n",
    "output(\"Você digitou: $text\")"
   ],
   "outputs": [
    {
     "name": "stdout",
     "output_type": "stream",
     "text": [
      "Digite algo: \r\n",
      "Você digitou: abc\r\n"
     ]
    }
   ],
   "execution_count": 22
  },
  {
   "metadata": {},
   "cell_type": "markdown",
   "source": "### Expressões lambda - Funções definidas numa expressão"
  },
  {
   "metadata": {
    "ExecuteTime": {
     "end_time": "2025-09-09T12:12:23.265704300Z",
     "start_time": "2025-09-09T12:12:23.168413100Z"
    }
   },
   "cell_type": "code",
   "source": [
    "val isUpper = { c :Char ->\n",
    "    var res = true\n",
    "    if (c < 'A'|| c > 'Z') res = false\n",
    "    res\n",
    "}\n",
    "\n",
    "isUpper('A')"
   ],
   "outputs": [
    {
     "data": {
      "text/plain": [
       "true"
      ]
     },
     "execution_count": 23,
     "metadata": {},
     "output_type": "execute_result"
    }
   ],
   "execution_count": 23
  },
  {
   "metadata": {},
   "cell_type": "markdown",
   "source": "#### Parametro implícito `it`"
  },
  {
   "metadata": {
    "ExecuteTime": {
     "end_time": "2025-09-09T12:14:24.133004800Z",
     "start_time": "2025-09-09T12:14:24.043493600Z"
    }
   },
   "cell_type": "code",
   "source": [
    "var oper: (Int) -> Int = { it * 2 }\n",
    "println(oper(3)) // --> 6\n",
    "\n",
    "oper = { it * it }\n",
    "println(oper(3)) // --> 9"
   ],
   "outputs": [
    {
     "name": "stdout",
     "output_type": "stream",
     "text": [
      "6\r\n",
      "9\r\n"
     ]
    }
   ],
   "execution_count": 24
  },
  {
   "metadata": {},
   "cell_type": "markdown",
   "source": "### Funções como parâmetro"
  },
  {
   "metadata": {
    "ExecuteTime": {
     "end_time": "2025-09-09T20:01:20.155624Z",
     "start_time": "2025-09-09T20:01:20.031195700Z"
    }
   },
   "cell_type": "code",
   "source": [
    "inline fun repeat(times: Int, action: (Int) -> Unit) {\n",
    "    for (i in 0..<times)\n",
    "        action(i)\n",
    "}\n",
    "repeat(10) {\n",
    "    if (it % 2 == 0) print(\"$it \")\n",
    "}"
   ],
   "outputs": [
    {
     "name": "stdout",
     "output_type": "stream",
     "text": [
      "0 2 4 6 8 "
     ]
    }
   ],
   "execution_count": 29
  },
  {
   "metadata": {},
   "cell_type": "markdown",
   "source": "### Funções retornadas por outras funções"
  },
  {
   "metadata": {
    "ExecuteTime": {
     "end_time": "2025-09-09T20:04:54.372914500Z",
     "start_time": "2025-09-09T20:04:54.278853300Z"
    }
   },
   "cell_type": "code",
   "source": [
    "fun add(x: Int): (Int) -> Int = { y -> x + y }\n",
    "\n",
    "val f: (Int)->Int = add(3)\n",
    "val res = f(5)\n",
    "println(res)         // --> 8\n",
    "\n",
    "println( add(3)(5) ) // --> 8\n"
   ],
   "outputs": [
    {
     "name": "stdout",
     "output_type": "stream",
     "text": [
      "8\r\n",
      "8\r\n"
     ]
    }
   ],
   "execution_count": 30
  }
 ],
 "metadata": {
  "kernelspec": {
   "display_name": "Kotlin",
   "language": "kotlin",
   "name": "kotlin"
  },
  "language_info": {
   "name": "kotlin",
   "version": "2.2.20-Beta2",
   "mimetype": "text/x-kotlin",
   "file_extension": ".kt",
   "pygments_lexer": "kotlin",
   "codemirror_mode": "text/x-kotlin",
   "nbconvert_exporter": ""
  },
  "ktnbPluginMetadata": {
   "projectLibraries": true
  }
 },
 "nbformat": 4,
 "nbformat_minor": 0
}
