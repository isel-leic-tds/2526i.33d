{
 "cells": [
  {
   "metadata": {},
   "cell_type": "markdown",
   "source": "# Colecções: `List<T>`, `Set<T>`, `Map<K,V>`, `Array<T>`"
  },
  {
   "metadata": {},
   "cell_type": "markdown",
   "source": [
    "|   Tipo    |             Descrição             |         Repetições         |      Tipo mutável      |\n",
    "|:---------:|:---------------------------------:|:--------------------------:|:----------------------:|\n",
    "| `List<T>` |  Sequência ordenada de elementos  | Pode ter elementos iguais  |    `MutableList<T>`    |\n",
    "| `Set<T>`  |  Conjunto não ordenado elementos  |    Não pode ter iguais     |    `MutableSet<T>`     |\n",
    "| `Map<K,V>`| Associação entre chaves e valores | Não pode ter chaves iguais |   `MutableMap<K,V>`    |\n",
    "| `Array<T>`|  Sequência ordenada de elementos  | Pode ter elementos iguais  | Elementos modificáveis |\n"
   ]
  },
  {
   "metadata": {},
   "cell_type": "markdown",
   "source": "## `List<T>`"
  },
  {
   "cell_type": "code",
   "metadata": {
    "collapsed": true,
    "ExecuteTime": {
     "end_time": "2025-09-10T08:14:57.051793Z",
     "start_time": "2025-09-10T08:14:56.895284800Z"
    }
   },
   "source": [
    "val names: List<String> = listOf(\"Pedro\", \"Ana\", \"João\", \"Maria\", \"Ana\")  // Tipo?\n",
    "println(names)\n",
    "println(\"${names.first()} ... ${names[2]} ... ${names.last()}\")\n",
    "\"Maria\" in names"
   ],
   "outputs": [
    {
     "name": "stdout",
     "output_type": "stream",
     "text": [
      "[Pedro, Ana, João, Maria, Ana]\r\n",
      "Pedro ... João ... Ana\r\n"
     ]
    },
    {
     "data": {
      "text/plain": [
       "true"
      ]
     },
     "execution_count": 11,
     "metadata": {},
     "output_type": "execute_result"
    }
   ],
   "execution_count": 11
  },
  {
   "metadata": {
    "ExecuteTime": {
     "end_time": "2025-09-10T08:05:29.770182300Z",
     "start_time": "2025-09-10T08:05:29.571345800Z"
    }
   },
   "cell_type": "code",
   "source": [
    "var numbers = listOf(5, 1, 3, 4, 3) + listOf(6, 7)\n",
    "\n",
    "println(numbers - 3)\n",
    "numbers = numbers + 2 - (4..6)\n",
    "println(numbers)\n",
    "(1..9) - numbers"
   ],
   "outputs": [
    {
     "name": "stdout",
     "output_type": "stream",
     "text": [
      "[5, 1, 4, 3, 6, 7]\r\n",
      "[1, 3, 3, 7, 2]\r\n"
     ]
    },
    {
     "data": {
      "text/plain": [
       "[4, 5, 6, 8, 9]"
      ]
     },
     "execution_count": 4,
     "metadata": {},
     "output_type": "execute_result"
    }
   ],
   "execution_count": 4
  },
  {
   "metadata": {
    "ExecuteTime": {
     "end_time": "2025-09-10T09:44:14.997206Z",
     "start_time": "2025-09-10T09:44:14.761982800Z"
    }
   },
   "cell_type": "code",
   "source": [
    "val mutableNames = mutableListOf(\"Ana\", \"Pedro\", \"Maria\") // val ou var?\n",
    "mutableNames.add(\"Ana\")\n",
    "mutableNames.remove(\"Pedro\")\n",
    "mutableNames[1] = \"Isabel\"\n",
    "println(mutableNames)\n",
    "\n",
    "val readOnlyNames: List<String> = mutableNames"
   ],
   "outputs": [
    {
     "name": "stdout",
     "output_type": "stream",
     "text": [
      "[Ana, Isabel, Ana]\r\n"
     ]
    }
   ],
   "execution_count": 12
  },
  {
   "metadata": {},
   "cell_type": "markdown",
   "source": "## `Set<T>`"
  },
  {
   "metadata": {
    "ExecuteTime": {
     "end_time": "2025-09-10T09:49:03.447867100Z",
     "start_time": "2025-09-10T09:49:03.334551600Z"
    }
   },
   "cell_type": "code",
   "source": [
    "val fruit: Set<String> = setOf(\"banana\", \"kiwi\", \"laranja\", \"kiwi\")\n",
    "println(fruit)\n",
    "println(\"|fruit| = ${fruit.size}\")\n",
    "println(\"${fruit.first()}, ${fruit.last()}\")\n",
    "\"laranja\" in fruit"
   ],
   "outputs": [
    {
     "name": "stdout",
     "output_type": "stream",
     "text": [
      "[banana, kiwi, laranja]\r\n",
      "|fruit| = 3\r\n",
      "banana, laranja\r\n",
      "LinkedHashSet\r\n"
     ]
    }
   ],
   "execution_count": 15
  },
  {
   "metadata": {
    "ExecuteTime": {
     "end_time": "2025-09-10T09:52:17.729484Z",
     "start_time": "2025-09-10T09:52:17.591484500Z"
    }
   },
   "cell_type": "code",
   "source": [
    "var numbers = setOf(5, 1, 3, 4, 3, 6, 7)\n",
    "println(numbers - 6)\n",
    "numbers = numbers + 2 - (4..6)\n",
    "println(numbers)\n",
    "println(numbers + (3..7))\n",
    "4 in numbers"
   ],
   "outputs": [
    {
     "name": "stdout",
     "output_type": "stream",
     "text": [
      "[5, 1, 3, 4, 7]\r\n",
      "[1, 3, 7, 2]\r\n",
      "[1, 3, 7, 2, 4, 5, 6]\r\n"
     ]
    },
    {
     "data": {
      "text/plain": [
       "false"
      ]
     },
     "execution_count": 17,
     "metadata": {},
     "output_type": "execute_result"
    }
   ],
   "execution_count": 17
  },
  {
   "metadata": {
    "ExecuteTime": {
     "end_time": "2025-09-10T09:53:56.324665800Z",
     "start_time": "2025-09-10T09:53:56.236337500Z"
    }
   },
   "cell_type": "code",
   "source": [
    "val mutableFruit: MutableSet<String> = mutableSetOf(\"maçã\", \"banana\", \"kiwi\")\n",
    "println(mutableFruit)\n",
    "mutableFruit.add(\"morango\")\n",
    "mutableFruit.remove(\"banana\")\n",
    "println(mutableFruit)\n",
    "\n",
    "val readOnlyFruit: Set<String> = mutableFruit\n"
   ],
   "outputs": [
    {
     "name": "stdout",
     "output_type": "stream",
     "text": [
      "[maçã, banana, kiwi]\r\n",
      "[maçã, kiwi, morango]\r\n"
     ]
    }
   ],
   "execution_count": 18
  },
  {
   "metadata": {},
   "cell_type": "markdown",
   "source": "## `Map<K,V>`"
  },
  {
   "metadata": {
    "ExecuteTime": {
     "end_time": "2025-09-10T10:00:24.183952700Z",
     "start_time": "2025-09-10T10:00:24.006610Z"
    }
   },
   "cell_type": "code",
   "source": [
    "val p1= Pair(\"Pedro\",48)\n",
    "val personAges: Map<String,Int> = mapOf(p1, \"Ana\" to 46, \"Luis\" to 27, \"João\" to 46)\n",
    "println(personAges)\n",
    "println(personAges.keys)\n",
    "println(\"Ages= ${personAges.values}\")\n",
    "println(\"|personAges| = ${personAges.size}\")\n",
    "println(\"Ana age is ${personAges[\"Ana\"]}\")\n",
    "println(\"Pedro\" in personAges)"
   ],
   "outputs": [
    {
     "name": "stdout",
     "output_type": "stream",
     "text": [
      "{Pedro=48, Ana=46, Luis=27, João=46}\r\n",
      "[Pedro, Ana, Luis, João]\r\n",
      "Ages= [48, 46, 27, 46]\r\n",
      "|personAges| = 4\r\n",
      "Ana age is 46\r\n",
      "true\r\n"
     ]
    }
   ],
   "execution_count": 21
  },
  {
   "metadata": {
    "ExecuteTime": {
     "end_time": "2025-09-10T14:07:05.054392800Z",
     "start_time": "2025-09-10T14:07:04.966237300Z"
    }
   },
   "cell_type": "code",
   "source": [
    "var m: Map<String,Int> = personAges\n",
    "m = m + (\"Carlos\" to 20) - \"Ana\" + (\"Pedro\" to 49)\n",
    "m"
   ],
   "outputs": [
    {
     "data": {
      "text/plain": [
       "{Pedro=49, Luis=27, João=46, Carlos=20}"
      ]
     },
     "execution_count": 25,
     "metadata": {},
     "output_type": "execute_result"
    }
   ],
   "execution_count": 25
  },
  {
   "metadata": {
    "ExecuteTime": {
     "end_time": "2025-09-10T14:09:44.487318300Z",
     "start_time": "2025-09-10T14:09:44.408322600Z"
    }
   },
   "cell_type": "code",
   "source": [
    "val mutablePersonAges = personAges.toMutableMap()\n",
    "mutablePersonAges.put(\"João\", 15)\n",
    "mutablePersonAges.remove(\"Ana\")\n",
    "mutablePersonAges[\"Pedro\"] = 49\n",
    "println(mutablePersonAges) // --> {Pedro=49, Luis=27, João=15}\n",
    "\n",
    "val pa: Map<String, Int> = mutablePersonAges"
   ],
   "outputs": [
    {
     "name": "stdout",
     "output_type": "stream",
     "text": [
      "{Pedro=49, Luis=27, João=15}\r\n"
     ]
    },
    {
     "data": {
      "text/plain": [
       "{Pedro=49, Luis=27, João=15}"
      ]
     },
     "execution_count": 28,
     "metadata": {},
     "output_type": "execute_result"
    }
   ],
   "execution_count": 28
  },
  {
   "metadata": {},
   "cell_type": "markdown",
   "source": [
    "## `Array<T>`\n",
    "#### Elementos mutáveis, mas tamanho fixo"
   ]
  },
  {
   "metadata": {
    "ExecuteTime": {
     "end_time": "2025-09-10T14:12:36.839120200Z",
     "start_time": "2025-09-10T14:12:36.666152100Z"
    }
   },
   "cell_type": "code",
   "source": [
    "val numbers: Array<Int> = arrayOf(3, 1, 4, 2, 5)\n",
    "println(numbers[2])\n",
    "println(numbers.size)\n",
    "numbers[3] = 5\n",
    "println(numbers)\n",
    "val numbers2 = numbers + 27"
   ],
   "outputs": [
    {
     "name": "stdout",
     "output_type": "stream",
     "text": [
      "4\r\n",
      "5\r\n",
      "[Ljava.lang.Integer;@3de52320\r\n",
      "[3, 1, 4, 5, 5, 27]\r\n"
     ]
    }
   ],
   "execution_count": 30
  },
  {
   "metadata": {},
   "cell_type": "markdown",
   "source": "<!-- <img src=\"img/ArrayList.png\" width=\"800\"/> -->"
  },
  {
   "metadata": {},
   "cell_type": "markdown",
   "source": "<img src=\"img/Arrays.png\" title=\"Arrays\"/>"
  },
  {
   "metadata": {
    "ExecuteTime": {
     "end_time": "2025-09-10T15:35:31.232471600Z",
     "start_time": "2025-09-10T15:35:29.504572300Z"
    }
   },
   "cell_type": "code",
   "source": [
    "val li: List<Int> = List<Int>(1000) { (1..100).random() }\n",
    "val tli = measureTime { repeat(1000){ li.sum() } }\n",
    "println(\" List<Int>: time=$tli, sum=${li.sum()}\")\n",
    "\n",
    "val ai: Array<Int> = Array<Int>(1000) { (1..100).random() }\n",
    "val tai = measureTime { repeat(1000){ ai.sum() } }\n",
    "println(\"Array<Int>: time=$tai, sum=${ai.sum()}\")\n",
    "\n",
    "val ia: IntArray = IntArray(1000) { (1..100).random() }\n",
    "val tia = measureTime { repeat(1000){ ia.sum() } }\n",
    "println(\"  IntArray: time=$tia, sum=${ia.sum()}\")"
   ],
   "outputs": [
    {
     "name": "stdout",
     "output_type": "stream",
     "text": [
      " List<Int>: time=2.988800ms, sum=51309\r\n",
      "Array<Int>: time=354us, sum=50892\r\n",
      "  IntArray: time=316.4us, sum=50565\r\n"
     ]
    }
   ],
   "execution_count": 191
  }
 ],
 "metadata": {
  "kernelspec": {
   "display_name": "Kotlin",
   "language": "kotlin",
   "name": "kotlin"
  },
  "language_info": {
   "name": "kotlin",
   "version": "2.2.20-Beta2",
   "mimetype": "text/x-kotlin",
   "file_extension": ".kt",
   "pygments_lexer": "kotlin",
   "codemirror_mode": "text/x-kotlin",
   "nbconvert_exporter": ""
  },
  "ktnbPluginMetadata": {
   "projectLibraries": true
  }
 },
 "nbformat": 4,
 "nbformat_minor": 0
}
