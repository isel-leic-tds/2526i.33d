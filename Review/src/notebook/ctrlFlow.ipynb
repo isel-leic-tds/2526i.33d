{
 "cells": [
  {
   "metadata": {},
   "cell_type": "markdown",
   "source": "# Controlo de fluxo: Decisões e ciclos repetitivos"
  },
  {
   "metadata": {},
   "cell_type": "markdown",
   "source": "## Decisões: `if` e `when`"
  },
  {
   "metadata": {},
   "cell_type": "markdown",
   "source": "### Instrução condicional: `if`"
  },
  {
   "cell_type": "code",
   "metadata": {
    "collapsed": true,
    "ExecuteTime": {
     "end_time": "2025-09-12T14:57:15.528931800Z",
     "start_time": "2025-09-12T14:57:15.302562200Z"
    }
   },
   "source": [
    "val number = (-10..10).random()\n",
    "if (number % 2 == 0) {          // if without an else (with braces)\n",
    "    println(\"$number é par\")\n",
    "}\n",
    "if (number < 0)                // if with an else (without braces)\n",
    "    println(\"$number é negativo\")\n",
    "else\n",
    "    println(\"$number é positivo\")"
   ],
   "outputs": [
    {
     "name": "stdout",
     "output_type": "stream",
     "text": [
      "-8 é par\r\n",
      "-8 é negativo\r\n"
     ]
    }
   ],
   "execution_count": 6
  },
  {
   "metadata": {},
   "cell_type": "markdown",
   "source": "### Expressão condicional: `if` expressão com `else` obrigatório"
  },
  {
   "metadata": {
    "ExecuteTime": {
     "end_time": "2025-09-12T14:57:19.183762200Z",
     "start_time": "2025-09-12T14:57:19.103763400Z"
    }
   },
   "cell_type": "code",
   "source": [
    "val parity = if (number % 2 == 0) \"par\" else \"ímpar\"\n",
    "val sign = if (number < 0) \"negativo\" else \"positivo\"\n",
    "println(\"$number é $parity e $sign\")"
   ],
   "outputs": [
    {
     "name": "stdout",
     "output_type": "stream",
     "text": [
      "-8 é par e negativo\r\n"
     ]
    }
   ],
   "execution_count": 7
  },
  {
   "metadata": {},
   "cell_type": "markdown",
   "source": "### Instrução condicional múltipla: `when`"
  },
  {
   "metadata": {
    "ExecuteTime": {
     "end_time": "2025-09-12T15:04:45.628407600Z",
     "start_time": "2025-09-12T15:04:45.567348100Z"
    }
   },
   "cell_type": "code",
   "source": [
    "val eval: Int = (-2..22).random()\n",
    "eval"
   ],
   "outputs": [
    {
     "data": {
      "text/plain": [
       "17"
      ]
     },
     "execution_count": 15,
     "metadata": {},
     "output_type": "execute_result"
    }
   ],
   "execution_count": 15
  },
  {
   "metadata": {
    "ExecuteTime": {
     "end_time": "2025-09-12T14:59:52.269127600Z",
     "start_time": "2025-09-12T14:59:52.172940500Z"
    }
   },
   "cell_type": "code",
   "source": [
    "when {\n",
    "    eval < 0 || eval > 20 ->\n",
    "        println(\"Erro: Nota $eval inválida\")\n",
    "    eval == 20 -> println(\"Excelente, nota máxima\")\n",
    "    eval >= 10 -> {\n",
    "        println(\"Parabéns\")\n",
    "        println(\"Passou com $eval valores\")\n",
    "    }\n",
    "    else  -> println(\"Reprovou com $eval valores\")\n",
    "}"
   ],
   "outputs": [
    {
     "name": "stdout",
     "output_type": "stream",
     "text": [
      "Reprovou com 3 valores\r\n"
     ]
    }
   ],
   "execution_count": 13
  },
  {
   "metadata": {},
   "cell_type": "markdown",
   "source": "### Instrução condicional múltipla com sujeito: `when(...)`"
  },
  {
   "metadata": {},
   "cell_type": "code",
   "source": [
    "when (eval) {\n",
    "    20        -> println(\"Excelente, nota máxima\")\n",
    "    in 10..20 -> println(\"Passou com $eval valores\")\n",
    "    8, 9      -> println(\"Quase passava, mas teve $eval\")\n",
    "    !in 0..20 -> println(\"Erro: Nota $eval inválida\")\n",
    "    else      -> println(\"Reprovou com  $eval\")\n",
    "}"
   ],
   "outputs": [],
   "execution_count": null
  },
  {
   "metadata": {},
   "cell_type": "markdown",
   "source": "### Expressão condicional múltipla: `when`"
  },
  {
   "metadata": {
    "ExecuteTime": {
     "end_time": "2025-09-12T15:04:50.038296300Z",
     "start_time": "2025-09-12T15:04:49.960120600Z"
    }
   },
   "cell_type": "code",
   "source": [
    "val classification = when (eval) {\n",
    "    19,20 -> \"Excelente\"\n",
    "    in 15..18 -> \"Bom\"\n",
    "    in 10..14 -> \"Suficiente\"\n",
    "    8, 9 -> \"Insuficiente\"\n",
    "    else -> \"Medíocre\"\n",
    "}\n",
    "println(\"$eval valores é $classification\")"
   ],
   "outputs": [
    {
     "name": "stdout",
     "output_type": "stream",
     "text": [
      "17 valores é Bom\r\n"
     ]
    }
   ],
   "execution_count": 16
  },
  {
   "metadata": {},
   "cell_type": "markdown",
   "source": "## Ciclos repetitivos: `for`, `while` e `do..while`"
  },
  {
   "metadata": {},
   "cell_type": "markdown",
   "source": [
    "|        Ciclo |                  Objectivo                  |       Continua se       |     Avalia condição     |\n",
    "|-------------:|:-------------------------------------------:|:-----------------------:|:-----------------------:|\n",
    "|      `while` |         Fazer 0 ou muitas iterações         |  Expressão verdadeira   | Antes de cada iteração  |\n",
    "|  `do..while` |         Fazer 1 ou muitas iterações         |  Expressão verdadeira   | Depois de cada iteração |\n",
    "|        `for` | Percorrer os elementos<br> de uma sequência | Elementos por percorrer | Antes de cada iteração  |"
   ]
  },
  {
   "metadata": {},
   "cell_type": "markdown",
   "source": "### Instrução: `while`"
  },
  {
   "metadata": {
    "ExecuteTime": {
     "end_time": "2025-09-12T15:08:29.854928100Z",
     "start_time": "2025-09-12T15:08:29.780149900Z"
    }
   },
   "cell_type": "code",
   "source": [
    "var remaining = 3  // Se for inicializado a 0\n",
    "while (remaining > 0) {\n",
    "    print(\"Falta $remaining \")\n",
    "    remaining--\n",
    "}\n",
    "println(\"Terminou\")"
   ],
   "outputs": [
    {
     "name": "stdout",
     "output_type": "stream",
     "text": [
      "Terminou\r\n"
     ]
    }
   ],
   "execution_count": 18
  },
  {
   "metadata": {},
   "cell_type": "markdown",
   "source": "### Instrução: `do..while`"
  },
  {
   "metadata": {
    "ExecuteTime": {
     "end_time": "2025-09-12T15:09:13.545771600Z",
     "start_time": "2025-09-12T15:09:13.478989700Z"
    }
   },
   "cell_type": "code",
   "source": [
    "var remaining = 3 // Se for inicializado a 0\n",
    "do {\n",
    "    print(\"Falta $remaining \")\n",
    "    remaining--\n",
    "} while (remaining > 0)\n",
    "println(\"Terminou\")"
   ],
   "outputs": [
    {
     "name": "stdout",
     "output_type": "stream",
     "text": [
      "Falta 0 Terminou\r\n"
     ]
    }
   ],
   "execution_count": 20
  },
  {
   "metadata": {},
   "cell_type": "markdown",
   "source": "### Instrução: `for`"
  },
  {
   "metadata": {
    "ExecuteTime": {
     "end_time": "2025-09-12T15:14:31.944731700Z",
     "start_time": "2025-09-12T15:14:31.629634800Z"
    }
   },
   "cell_type": "code",
   "source": [
    "for (remaining in 3 downTo 1)\n",
    "    print(\"Falta $remaining \")\n",
    "println(\"Terminou\")\n",
    "\n",
    "for (i in 1..5) print(\"$i \")\n",
    "\n",
    "for (name in listOf(\"Pedro\",\"Ana\",\"Maria\")) print(\"$name \")\n",
    "\n",
    "for (letter in \"Kotlin\") print(\"$letter \")"
   ],
   "outputs": [
    {
     "name": "stdout",
     "output_type": "stream",
     "text": [
      "Falta 3 Falta 2 Falta 1 Terminou\r\n",
      "1 2 3 4 5 Pedro Ana Maria K o t l i n "
     ]
    }
   ],
   "execution_count": 25
  },
  {
   "metadata": {},
   "cell_type": "markdown",
   "source": "## Quebra de ciclos: `break` e `continue`"
  },
  {
   "metadata": {},
   "cell_type": "markdown",
   "source": "### Instrução: `continue`"
  },
  {
   "metadata": {
    "ExecuteTime": {
     "end_time": "2025-09-14T11:26:51.432270500Z",
     "start_time": "2025-09-14T11:26:51.257269700Z"
    }
   },
   "cell_type": "code",
   "source": [
    "for (i in 1..5) {\n",
    "    print(i)\n",
    "    if (i % 2 == 0) println()//; continue } // Ignore even numbers\n",
    "    else println(\" é ímpar\")\n",
    "}"
   ],
   "outputs": [
    {
     "name": "stdout",
     "output_type": "stream",
     "text": [
      "1 é ímpar\r\n",
      "2\r\n",
      "3 é ímpar\r\n",
      "4\r\n",
      "5 é ímpar\r\n"
     ]
    }
   ],
   "execution_count": 31
  },
  {
   "metadata": {},
   "cell_type": "markdown",
   "source": "### Instrução: `break`"
  },
  {
   "metadata": {
    "ExecuteTime": {
     "end_time": "2025-09-12T15:19:51.713689800Z",
     "start_time": "2025-09-12T15:19:51.646306500Z"
    }
   },
   "cell_type": "code",
   "source": [
    "for (i in 5..10) {\n",
    "    if (i % 4 == 0) break  // Break the loop\n",
    "    println(\"Número: $i\")\n",
    "}"
   ],
   "outputs": [
    {
     "name": "stdout",
     "output_type": "stream",
     "text": [
      "Número: 5\r\n",
      "Número: 6\r\n",
      "Número: 7\r\n"
     ]
    }
   ],
   "execution_count": 28
  },
  {
   "metadata": {},
   "cell_type": "markdown",
   "source": "### Ciclos infinitos: `while(true)`"
  },
  {
   "metadata": {
    "ExecuteTime": {
     "end_time": "2025-09-12T15:22:52.174425700Z",
     "start_time": "2025-09-12T15:22:16.800200400Z"
    }
   },
   "cell_type": "code",
   "source": [
    "val secret = (1..15).random()\n",
    "print(\"Número entre 1 e 15: \")\n",
    "while (true) {    // Infinite loop\n",
    "    val guess = readln().toInt()\n",
    "    if (guess==secret)\n",
    "        break  // Quebra com código antes e depois\n",
    "    val mm = if (secret < guess) \"menor\" else \"maior\"\n",
    "    print(\"O número secreto é $mm que $guess\\nContinue a tentar: \")\n",
    "}\n",
    "println(\"Adivinhou, era $secret\")"
   ],
   "outputs": [
    {
     "name": "stdout",
     "output_type": "stream",
     "text": [
      "Número entre 1 e 15: O número secreto é menor que 7\n",
      "Continue a tentar: Adivinhou, era 4\r\n"
     ]
    }
   ],
   "execution_count": 29
  },
  {
   "metadata": {},
   "cell_type": "code",
   "source": [
    "val secret = (1..15).random()\n",
    "print(\"Número entre 1 e 15: \")\n",
    "var guess: Int = readln().trim().toInt()\n",
    "while (guess!=secret) {\n",
    "    val mm = if (secret < guess) \"menor\" else \"maior\"\n",
    "    print(\"O número secreto é $mm que $guess\\nContinue a tentar: \")\n",
    "    guess = readln().trim().toInt()\n",
    "}\n",
    "println(\"Adivinhou, era $secret\")"
   ],
   "outputs": [],
   "execution_count": null
  }
 ],
 "metadata": {
  "kernelspec": {
   "display_name": "Kotlin",
   "language": "kotlin",
   "name": "kotlin"
  },
  "language_info": {
   "name": "kotlin",
   "version": "2.2.20-Beta2",
   "mimetype": "text/x-kotlin",
   "file_extension": ".kt",
   "pygments_lexer": "kotlin",
   "codemirror_mode": "text/x-kotlin",
   "nbconvert_exporter": ""
  },
  "ktnbPluginMetadata": {
   "projectLibraries": true
  }
 },
 "nbformat": 4,
 "nbformat_minor": 0
}
