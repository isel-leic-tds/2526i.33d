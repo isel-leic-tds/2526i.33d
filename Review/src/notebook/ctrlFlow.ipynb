{
 "cells": [
  {
   "metadata": {},
   "cell_type": "markdown",
   "source": "# Controlo de fluxo: Decisões e ciclos repetitivos"
  },
  {
   "metadata": {},
   "cell_type": "markdown",
   "source": "## Decisões: `if` e `when`"
  },
  {
   "metadata": {},
   "cell_type": "markdown",
   "source": "### Instrução condicional: `if`"
  },
  {
   "cell_type": "code",
   "metadata": {
    "collapsed": true
   },
   "source": [
    "val number = (-10..10).random()\n",
    "if (number % 2 == 0) {          // if without an else (with braces)\n",
    "    println(\"$number é par\")\n",
    "}\n",
    "if (number < 0)                // if with an else (without braces)\n",
    "    println(\"$number é negativo\")\n",
    "else\n",
    "    println(\"$number é positivo\")"
   ],
   "outputs": [],
   "execution_count": null
  },
  {
   "metadata": {},
   "cell_type": "markdown",
   "source": "### Expressão condicional: `if` expressão com `else` obrigatório"
  },
  {
   "metadata": {},
   "cell_type": "code",
   "source": [
    "val parity = if (number % 2 == 0) \"par\" else \"ímpar\"\n",
    "val sign = if (number < 0) \"negativo\" else \"positivo\"\n",
    "println(\"$number é $parity e $sign\")"
   ],
   "outputs": [],
   "execution_count": null
  },
  {
   "metadata": {},
   "cell_type": "markdown",
   "source": "### Instrução condicional múltipla: `when`"
  },
  {
   "metadata": {},
   "cell_type": "code",
   "source": [
    "val eval: Int = (-2..22).random()\n",
    "eval"
   ],
   "outputs": [],
   "execution_count": null
  },
  {
   "metadata": {},
   "cell_type": "code",
   "source": [
    "when {\n",
    "    eval < 0 || eval > 20 ->\n",
    "        println(\"Erro: Nota $eval inválida\")\n",
    "    eval == 20 -> println(\"Excelente, nota máxima\")\n",
    "    eval >= 10 -> {\n",
    "        println(\"Parabéns\")\n",
    "        println(\"Passou com $eval valores\")\n",
    "    }\n",
    "    // Não falta aqui o else?  -> println(\"Reprovou com $eval valores\")\n",
    "}"
   ],
   "outputs": [],
   "execution_count": null
  },
  {
   "metadata": {},
   "cell_type": "markdown",
   "source": "### Instrução condicional múltipla com sujeito: `when(...)`"
  },
  {
   "metadata": {},
   "cell_type": "code",
   "source": [
    "when (eval) {\n",
    "    20        -> println(\"Excelente, nota máxima\")\n",
    "    in 10..20 -> println(\"Passou com $eval valores\")\n",
    "    8, 9      -> println(\"Quase passava, mas teve $eval\")\n",
    "    !in 0..20 -> println(\"Erro: Nota $eval inválida\")\n",
    "    else      -> println(\"Reprovou com  $eval\")\n",
    "}"
   ],
   "outputs": [],
   "execution_count": null
  },
  {
   "metadata": {},
   "cell_type": "markdown",
   "source": "### Expressão condicional múltipla: `when`"
  },
  {
   "metadata": {},
   "cell_type": "code",
   "source": [
    "val classification = when (eval) {\n",
    "    19,20 -> \"Excelente\"\n",
    "    in 15..18 -> \"Bom\"\n",
    "    in 10..14 -> \"Suficiente\"\n",
    "    8, 9 -> \"Insuficiente\"\n",
    "    else -> \"Medíocre\"\n",
    "}\n",
    "println(\"$eval valores é $classification\")"
   ],
   "outputs": [],
   "execution_count": null
  },
  {
   "metadata": {},
   "cell_type": "markdown",
   "source": "## Ciclos repetitivos: `for`, `while` e `do..while`"
  },
  {
   "metadata": {},
   "cell_type": "markdown",
   "source": [
    "|        Ciclo |                  Objectivo                  |       Continua se       |     Avalia condição     |\n",
    "|-------------:|:-------------------------------------------:|:-----------------------:|:-----------------------:|\n",
    "|      `while` |         Fazer 0 ou muitas iterações         |  Expressão verdadeira   | Antes de cada iteração  |\n",
    "|  `do..while` |         Fazer 1 ou muitas iterações         |  Expressão verdadeira   | Depois de cada iteração |\n",
    "|        `for` | Percorrer os elementos<br> de uma sequência | Elementos por percorrer | Antes de cada iteração  |"
   ]
  },
  {
   "metadata": {},
   "cell_type": "markdown",
   "source": "### Instrução: `while`"
  },
  {
   "metadata": {},
   "cell_type": "code",
   "source": [
    "var remaining = 3  // Se for inicializado a 0\n",
    "while (remaining > 0) {\n",
    "    print(\"Falta $remaining \")\n",
    "    remaining--\n",
    "}\n",
    "println(\"Terminou\")"
   ],
   "outputs": [],
   "execution_count": null
  },
  {
   "metadata": {},
   "cell_type": "markdown",
   "source": "### Instrução: `do..while`"
  },
  {
   "metadata": {},
   "cell_type": "code",
   "source": [
    "var remaining = 3 // Se for inicializado a 0\n",
    "do {\n",
    "    print(\"Falta $remaining \")\n",
    "    remaining--\n",
    "} while (remaining > 0)\n",
    "println(\"Terminou\")"
   ],
   "outputs": [],
   "execution_count": null
  },
  {
   "metadata": {},
   "cell_type": "markdown",
   "source": "### Instrução: `for`"
  },
  {
   "metadata": {},
   "cell_type": "code",
   "source": [
    "for (remaining in 3 downTo 1)\n",
    "    print(\"Falta $remaining \")\n",
    "println(\"Terminou\")\n",
    "\n",
    "for (i in 1..5) print(\"$i \")\n",
    "\n",
    "for (name in listOf(\"Pedro\",\"Ana\",\"Maria\")) print(\"$name \")\n",
    "\n",
    "for (letter in \"Kotlin\") print(\"$letter \")"
   ],
   "outputs": [],
   "execution_count": null
  },
  {
   "metadata": {},
   "cell_type": "markdown",
   "source": "## Quebra de ciclos: `break` e `continue`"
  },
  {
   "metadata": {},
   "cell_type": "markdown",
   "source": "### Instrução: `continue`"
  },
  {
   "metadata": {},
   "cell_type": "code",
   "source": [
    "for (i in 1..5) {\n",
    "    print(i)\n",
    "    if (i % 2 == 0) { println(); continue } // Ignore even numbers\n",
    "    println(\" é ímpar\")\n",
    "}"
   ],
   "outputs": [],
   "execution_count": null
  },
  {
   "metadata": {},
   "cell_type": "markdown",
   "source": "### Instrução: `break`"
  },
  {
   "metadata": {},
   "cell_type": "code",
   "source": [
    "for (i in 5..10) {\n",
    "    if (i % 4 == 0) break  // Break the loop\n",
    "    println(\"Número: $i\")\n",
    "}"
   ],
   "outputs": [],
   "execution_count": null
  },
  {
   "metadata": {},
   "cell_type": "markdown",
   "source": "### Ciclos infinitos: `while(true)`"
  },
  {
   "metadata": {
    "ExecuteTime": {
     "end_time": "2025-09-09T10:54:16.952776600Z",
     "start_time": "2025-09-09T10:53:54.173597Z"
    }
   },
   "cell_type": "code",
   "source": [
    "val secret = (1..15).random()\n",
    "print(\"Número entre 1 e 15: \")\n",
    "while (true) {    // Infinite loop\n",
    "    val guess = readln().toInt()\n",
    "    if (guess==secret) break  // Quebra com código antes e depois\n",
    "    val mm = if (secret < guess) \"menor\" else \"maior\"\n",
    "    print(\"O número secreto é $mm que $guess\\nContinue a tentar: \")\n",
    "}\n",
    "println(\"Adivinhou, era $secret\")"
   ],
   "outputs": [
    {
     "name": "stdout",
     "output_type": "stream",
     "text": [
      "Número entre 1 e 15: O número secreto é menor que 7\n",
      "Continue a tentar: O número secreto é maior que 3\n",
      "Continue a tentar: Adivinhou, era 5\r\n"
     ]
    }
   ],
   "execution_count": 6
  }
 ],
 "metadata": {
  "kernelspec": {
   "display_name": "Kotlin",
   "language": "kotlin",
   "name": "kotlin"
  },
  "language_info": {
   "name": "kotlin",
   "version": "2.2.20-Beta2",
   "mimetype": "text/x-kotlin",
   "file_extension": ".kt",
   "pygments_lexer": "kotlin",
   "codemirror_mode": "text/x-kotlin",
   "nbconvert_exporter": ""
  },
  "ktnbPluginMetadata": {
   "projectLibraries": true
  }
 },
 "nbformat": 4,
 "nbformat_minor": 0
}
