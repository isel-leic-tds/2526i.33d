{
 "cells": [
  {
   "metadata": {
    "collapsed": true
   },
   "cell_type": "markdown",
   "source": "# Herança"
  },
  {
   "metadata": {},
   "cell_type": "markdown",
   "source": [
    "## Classe base e classe derivada\n",
    "<img src=\"img\\PersonStudent.png\" />"
   ]
  },
  {
   "metadata": {},
   "cell_type": "code",
   "source": [
    "class Person...\n",
    "class Student...\n",
    "\n",
    "val boy = Person(\"Rui\")\n",
    "boy.speak() // --> Rui: talking.\n",
    "\n",
    "val girl = Student(324,\"Ana\")\n",
    "girl.speak() // --> Ana: talking.\n",
    "girl.study() // --> 324-Ana is studying"
   ],
   "outputs": [],
   "execution_count": null
  },
  {
   "metadata": {},
   "cell_type": "markdown",
   "source": "## Relação _is-a_ &nbsp; - _**Um estudante é uma pessoa.**_"
  },
  {
   "metadata": {},
   "cell_type": "code",
   "source": [
    "fun hasSameName(p1: Person, p2: Person): Boolean = ...\n",
    "\n",
    "val learner = Student(324,\"Ana\")\n",
    "println(hasSameName(learner, Person(\"Ana\"))) // --> true\n",
    "println(learner is Person)\n",
    "println(learner is Student)"
   ],
   "outputs": [],
   "execution_count": null
  },
  {
   "metadata": {},
   "cell_type": "markdown",
   "source": "## Redefinição de métodos & poliformismo &nbsp;&nbsp;&nbsp;&nbsp; **`override fun`**"
  },
  {
   "metadata": {},
   "cell_type": "code",
   "source": [
    "...\n",
    "\n",
    "val persons = listOf(Student(324, \"Ana\"), Person(\"Pedro\"))\n",
    "for (p in persons) {\n",
    "    p.talk()              // --> Hello, my name is Ana and my number is 324.\n",
    "    println(\".\")          // --> Hello, my name is Pedro.\n",
    "}"
   ],
   "outputs": [],
   "execution_count": null
  },
  {
   "metadata": {},
   "cell_type": "markdown",
   "source": [
    "## A superclasse comum: **`Any`**\n",
    "<table>\n",
    "<tr>\n",
    "  <td><img src=\"img\\AnyPersonStudent.png\" width=\"80\"/></td>\n",
    "  <td><img src=\"img\\Any.png\" width=\"700\"/></td>\n",
    "</tr>\n",
    "</table>"
   ]
  },
  {
   "metadata": {},
   "cell_type": "markdown",
   "source": [
    "## Herança multipla com interfaces &nbsp;&nbsp;&nbsp;&nbsp; **`interface`**\n",
    "<img src=\"img\\NumberedNamed.png\"/>"
   ]
  },
  {
   "metadata": {},
   "cell_type": "code",
   "source": [
    "interface Named { fun printName() }\n",
    "interface Numbered { fun printNumber() }\n",
    "\n",
    "open class Person(val name: String): Named {\n",
    "    override fun printName() { println(\"Name = $name\") }\n",
    "}\n",
    "class Student(val number: Int, id:String): Person(id), Numbered {\n",
    "    override fun printNumber() { println(\"My number is $number\") }\n",
    "}\n",
    "val ps = listOf(Student(324,\"Ana\"), Person(\"Pedro\"), \"Rui\")\n",
    "for (p in ps) {\n",
    "    if (p is Named) p.printName()\n",
    "    if (p is Numbered) p.printNumber()\n",
    "}"
   ],
   "outputs": [],
   "execution_count": null
  },
  {
   "metadata": {},
   "cell_type": "markdown",
   "source": [
    "## Redefinição de propriedades &nbsp;&nbsp;&nbsp;&nbsp; **`override val/var`**\n",
    "<img src=\"img\\Shape.png\"/>"
   ]
  },
  {
   "metadata": {},
   "cell_type": "code",
   "source": [
    "interface Shape { val vertices: Int }\n",
    "class Rectangle : Shape { override val vertices: Int = 4}\n",
    "class Polygon : Shape { override var vertices: Int = 0 }\n",
    "\n",
    "val p = Polygon()\n",
    "p.vertices = 5\n",
    "val shapes = listOf(Rectangle(), Polygon(), p)\n",
    "for (s in shapes) { println(s.vertices) }"
   ],
   "outputs": [],
   "execution_count": null
  }
 ],
 "metadata": {
  "kernelspec": {
   "display_name": "Kotlin",
   "language": "kotlin",
   "name": "kotlin"
  },
  "language_info": {
   "name": "kotlin",
   "version": "2.2.20-Beta2",
   "mimetype": "text/x-kotlin",
   "file_extension": ".kt",
   "pygments_lexer": "kotlin",
   "codemirror_mode": "text/x-kotlin",
   "nbconvert_exporter": ""
  },
  "ktnbPluginMetadata": {
   "projectLibraries": true
  }
 },
 "nbformat": 4,
 "nbformat_minor": 0
}
